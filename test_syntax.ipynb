{
 "cells": [
  {
   "cell_type": "code",
   "execution_count": 1,
   "metadata": {},
   "outputs": [
    {
     "name": "stderr",
     "output_type": "stream",
     "text": [
      "<frozen importlib._bootstrap>:488: RuntimeWarning: Your system is avx2 capable but pygame was not built with support for it. The performance of some of your blits could be adversely affected. Consider enabling compile time detection with environment variables like PYGAME_DETECT_AVX2=1 if you are compiling without cross compilation.\n"
     ]
    }
   ],
   "source": [
    "from fallbacks import pygame\n",
    "\n",
    "INPUT_MAP = {\n",
    "    pygame.K_UP: 'UP',\n",
    "    pygame.K_DOWN: 'DOWN',\n",
    "    pygame.K_LEFT: 'LEFT',\n",
    "    pygame.K_RIGHT: 'RIGHT',\n",
    "    pygame.K_RETURN: 'WAIT',\n",
    "    pygame.K_SPACE: 'BOMB',\n",
    "}"
   ]
  },
  {
   "cell_type": "code",
   "execution_count": 4,
   "metadata": {},
   "outputs": [
    {
     "name": "stdout",
     "output_type": "stream",
     "text": [
      "{1073741906: 'UP', 1073741905: 'DOWN', 1073741904: 'LEFT', 1073741903: 'RIGHT', 13: 'WAIT', 32: 'BOMB'}\n"
     ]
    }
   ],
   "source": [
    "print(INPUT_MAP)\n",
    "\n"
   ]
  }
 ],
 "metadata": {
  "kernelspec": {
   "display_name": "ml_homework",
   "language": "python",
   "name": "python3"
  },
  "language_info": {
   "codemirror_mode": {
    "name": "ipython",
    "version": 3
   },
   "file_extension": ".py",
   "mimetype": "text/x-python",
   "name": "python",
   "nbconvert_exporter": "python",
   "pygments_lexer": "ipython3",
   "version": "3.12.4"
  },
  "orig_nbformat": 4
 },
 "nbformat": 4,
 "nbformat_minor": 2
}
