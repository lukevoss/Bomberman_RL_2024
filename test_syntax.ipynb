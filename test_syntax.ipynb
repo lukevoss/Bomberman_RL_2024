{
 "cells": [
  {
   "cell_type": "code",
   "execution_count": 1,
   "metadata": {},
   "outputs": [],
   "source": [
    "from enum import Enum\n",
    "# Dense Rewards\n",
    "class SpecialGameEvent(Enum):\n",
    "    CONSTANT_PENALTY = \"CONSTANT_PENALTY\"\n",
    "    WON_GAME = \"WON_GAME\"\n",
    "    BOMBED_1_TO_2_CRATES = \"BOMBED_1_TO_2_CRATES\"\n",
    "    BOMBED_3_TO_5_CRATES = \"BOMBED_3_TO_5_CRATES\"\n",
    "    BOMBED_5_PLUS_CRATES = \"BOMBED_5_PLUS_CRATES\"\n",
    "    GOT_IN_LOOP = \"GOT_IN_LOOP\"\n",
    "    ESCAPING = \"ESCAPING\"\n",
    "    OUT_OF_DANGER = \"OUT_OF_DANGER\"\n",
    "    NOT_ESCAPING = \"NOT_ESCAPING\"\n",
    "    CLOSER_TO_COIN = \"CLOSER_TO_COIN\"\n",
    "    AWAY_FROM_COIN = \"AWAY_FROM_COIN\"\n",
    "    CLOSER_TO_CRATE = \"CLOSER_TO_CRATE\"\n",
    "    AWAY_FROM_CRATE = \"AWAY_FROM_CRATE\"\n",
    "    SURVIVED_STEP = \"SURVIVED_STEP\"\n",
    "    DESTROY_TARGET = \"DESTROY_TARGET\"\n",
    "    MISSED_TARGET = \"MISSED_TARGET\"\n",
    "    WAITED_NECESSARILY = \"WAITED_NECESSARILY\"\n",
    "    WAITED_UNNECESSARILY = \"WAITED_UNNECESSARILY\"\n",
    "    CLOSER_TO_PLAYERS = \"CLOSER_TO_PLAYERS\"\n",
    "    AWAY_FROM_PLAYERS = \"AWAY_FROM_PLAYERS\"\n",
    "    SMART_BOMB_DROPPED = \"SMART_BOMB_DROPPED\"\n",
    "    DUMB_BOMB_DROPPED = \"DUMB_BOMB_DROPPED\""
   ]
  },
  {
   "cell_type": "code",
   "execution_count": 3,
   "metadata": {},
   "outputs": [
    {
     "name": "stdout",
     "output_type": "stream",
     "text": [
      "DESTROY_TARGET\n"
     ]
    }
   ],
   "source": [
    "print(SpecialGameEvent.DESTROY_TARGET.value)"
   ]
  }
 ],
 "metadata": {
  "kernelspec": {
   "display_name": "ml_homework",
   "language": "python",
   "name": "python3"
  },
  "language_info": {
   "codemirror_mode": {
    "name": "ipython",
    "version": 3
   },
   "file_extension": ".py",
   "mimetype": "text/x-python",
   "name": "python",
   "nbconvert_exporter": "python",
   "pygments_lexer": "ipython3",
   "version": "3.12.4"
  },
  "orig_nbformat": 4
 },
 "nbformat": 4,
 "nbformat_minor": 2
}
